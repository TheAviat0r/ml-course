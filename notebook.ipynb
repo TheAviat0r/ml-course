{
  "cells": [
    {
      "metadata": {
        "_cell_guid": "b1076dfc-b9ad-4769-8c92-a6c4dae69d19",
        "_uuid": "8f2839f25d086af736a60e9eeb907d3b93b6e0e5",
        "trusted": true
      },
      "cell_type": "code",
      "source": "import numpy as np\nimport pandas as pd\nimport re\n\ntrain = pd.read_csv('../input/train.csv', header = 0, dtype={'Age': np.float64})\ntest  = pd.read_csv('../input/test.csv' , header = 0, dtype={'Age': np.float64})\nfull_data = [train, test]\n\nprint (train.info())\n%matplotlib inline\n\nimport warnings\nwarnings.filterwarnings('ignore')",
      "execution_count": 38,
      "outputs": [
        {
          "output_type": "stream",
          "text": "<class 'pandas.core.frame.DataFrame'>\nRangeIndex: 891 entries, 0 to 890\nData columns (total 12 columns):\nPassengerId    891 non-null int64\nSurvived       891 non-null int64\nPclass         891 non-null int64\nName           891 non-null object\nSex            891 non-null object\nAge            714 non-null float64\nSibSp          891 non-null int64\nParch          891 non-null int64\nTicket         891 non-null object\nFare           891 non-null float64\nCabin          204 non-null object\nEmbarked       889 non-null object\ndtypes: float64(2), int64(5), object(5)\nmemory usage: 83.6+ KB\nNone\n",
          "name": "stdout"
        }
      ]
    },
    {
      "metadata": {
        "_uuid": "05ce4ae604eec005d3061fe4bf4583873b25ad22"
      },
      "cell_type": "markdown",
      "source": "## Data exploration\n### PClass\nПосмотрим на обучающую выборку и убедимся, что среди пассажиров 1-го класса больше всего выживших"
    },
    {
      "metadata": {
        "_cell_guid": "79c7e3d0-c299-4dcb-8224-4455121ee9b0",
        "_uuid": "d629ff2d2480ee46fbb7e2d37f6b5fab8052498a",
        "trusted": true
      },
      "cell_type": "code",
      "source": "print (train[['Pclass', 'Survived']].groupby(['Pclass'], as_index=False).mean())",
      "execution_count": 39,
      "outputs": [
        {
          "output_type": "stream",
          "text": "   Pclass  Survived\n0       1  0.629630\n1       2  0.472826\n2       3  0.242363\n",
          "name": "stdout"
        }
      ]
    },
    {
      "metadata": {
        "_uuid": "973b5fcf8473d823bbc956f22e4a0203c53b643f"
      },
      "cell_type": "markdown",
      "source": "### Sex"
    },
    {
      "metadata": {
        "trusted": true,
        "_uuid": "ece4142c7f1d37adf776c9fc959cec945468bd3e"
      },
      "cell_type": "code",
      "source": "print (train[[\"Sex\", \"Survived\"]].groupby(['Sex'], as_index=False).mean())",
      "execution_count": 40,
      "outputs": [
        {
          "output_type": "stream",
          "text": "      Sex  Survived\n0  female  0.742038\n1    male  0.188908\n",
          "name": "stdout"
        }
      ]
    },
    {
      "metadata": {
        "_uuid": "ef32bc93040ee49024cfd29a3128e1928beb59b1"
      },
      "cell_type": "markdown",
      "source": "### Family"
    },
    {
      "metadata": {
        "trusted": true,
        "_uuid": "0fa33519d11749a67cabf6482ddedd1ff5417243"
      },
      "cell_type": "code",
      "source": "for dataset in full_data:\n    dataset['FamilySize'] = dataset['SibSp'] + dataset['Parch'] + 1\nprint (train[['FamilySize', 'Survived']].groupby(['FamilySize'], as_index=False).mean())",
      "execution_count": 41,
      "outputs": [
        {
          "output_type": "stream",
          "text": "   FamilySize  Survived\n0           1  0.303538\n1           2  0.552795\n2           3  0.578431\n3           4  0.724138\n4           5  0.200000\n5           6  0.136364\n6           7  0.333333\n7           8  0.000000\n8          11  0.000000\n",
          "name": "stdout"
        }
      ]
    },
    {
      "metadata": {
        "_uuid": "d5a0cf93b08407f9e48650a6abca0d8209b4a4d1"
      },
      "cell_type": "markdown",
      "source": "### IsAlone\nДобавим еще один новый признак помимо количества родственников - наличие семьи. Как видим, этот признак, скорее всего, имеет достаточно большое влияние на вопрос о выживании конкретного человека."
    },
    {
      "metadata": {
        "trusted": true,
        "_uuid": "4f229023be48fe146b69b002bb46e9429c669a20"
      },
      "cell_type": "code",
      "source": "for dataset in full_data:\n    dataset['IsAlone'] = 0\n    dataset.loc[dataset['FamilySize'] == 1, 'IsAlone'] = 1\nprint (train[['IsAlone', 'Survived']].groupby(['IsAlone'], as_index=False).mean())",
      "execution_count": 42,
      "outputs": [
        {
          "output_type": "stream",
          "text": "   IsAlone  Survived\n0        0  0.505650\n1        1  0.303538\n",
          "name": "stdout"
        }
      ]
    },
    {
      "metadata": {
        "_uuid": "a4655b102fba346db829aed4d6793791ffb999a8"
      },
      "cell_type": "markdown",
      "source": "### Embarked\nЗаменяем null'ы на самое популярное значение - 'S'"
    },
    {
      "metadata": {
        "trusted": true,
        "_uuid": "f2effc6d58a13a2e0c1a6501670032b83c4911d9"
      },
      "cell_type": "code",
      "source": "for dataset in full_data:\n    dataset['Embarked'] = dataset['Embarked'].fillna('S')\nprint (train[['Embarked', 'Survived']].groupby(['Embarked'], as_index=False).mean())",
      "execution_count": 43,
      "outputs": [
        {
          "output_type": "stream",
          "text": "  Embarked  Survived\n0        C  0.553571\n1        Q  0.389610\n2        S  0.339009\n",
          "name": "stdout"
        }
      ]
    },
    {
      "metadata": {
        "_uuid": "a104d814d0764966334b2b014d7119347a1689c8"
      },
      "cell_type": "markdown",
      "source": "### Fare\nЗаполняем пропуски данных медианным значением, затем вводим категориальный признак - разбиваем оплату за проезд на 4 промежутка."
    },
    {
      "metadata": {
        "trusted": true,
        "_uuid": "8d5fe56f2715e0299a64bdb8db4f7c018b1c98b4"
      },
      "cell_type": "code",
      "source": "for dataset in full_data:\n    dataset['Fare'] = dataset['Fare'].fillna(train['Fare'].median())\ntrain['CategoricalFare'] = pd.qcut(train['Fare'], 4)\nprint (train[['CategoricalFare', 'Survived']].groupby(['CategoricalFare'], as_index=False).mean())",
      "execution_count": 44,
      "outputs": [
        {
          "output_type": "stream",
          "text": "   CategoricalFare  Survived\n0   (-0.001, 7.91]  0.197309\n1   (7.91, 14.454]  0.303571\n2   (14.454, 31.0]  0.454955\n3  (31.0, 512.329]  0.581081\n",
          "name": "stdout"
        }
      ]
    },
    {
      "metadata": {
        "_uuid": "2b3248def6eb761bd022e043a3ff18b93e991279"
      },
      "cell_type": "markdown",
      "source": "### Age\nДля пропусков в возрасте генерируем рандомные данные в пределах mean +- std, затем на основе возраста делаем категориальный признак"
    },
    {
      "metadata": {
        "trusted": true,
        "_uuid": "32dd4e09d403d1b28862992dd9733426fc0ab7de"
      },
      "cell_type": "code",
      "source": "for dataset in full_data:\n    age_avg \t   = dataset['Age'].mean()\n    age_std \t   = dataset['Age'].std()\n    age_null_count = dataset['Age'].isnull().sum()\n    \n    age_null_random_list = np.random.randint(age_avg - age_std, age_avg + age_std, size=age_null_count)\n    dataset['Age'][np.isnan(dataset['Age'])] = age_null_random_list\n    dataset['Age'] = dataset['Age'].astype(int)\n    \ntrain['CategoricalAge'] = pd.cut(train['Age'], 5)\n\nprint (train[['CategoricalAge', 'Survived']].groupby(['CategoricalAge'], as_index=False).mean())",
      "execution_count": 45,
      "outputs": [
        {
          "output_type": "stream",
          "text": "  CategoricalAge  Survived\n0  (-0.08, 16.0]  0.513043\n1   (16.0, 32.0]  0.371622\n2   (32.0, 48.0]  0.345238\n3   (48.0, 64.0]  0.434783\n4   (64.0, 80.0]  0.090909\n",
          "name": "stdout"
        }
      ]
    },
    {
      "metadata": {
        "_uuid": "7e0272cec567fb1de59244fe6114d82de462ee6e"
      },
      "cell_type": "markdown",
      "source": "### Name\n"
    },
    {
      "metadata": {
        "trusted": true,
        "_uuid": "1ca56c50f44267e3c9c0719e14d640cae9c5f8a4"
      },
      "cell_type": "code",
      "source": "def get_title(name):\n\ttitle_search = re.search(' ([A-Za-z]+)\\.', name)\n\tif title_search:\n\t\treturn title_search.group(1)\n\treturn \"\"\n\nfor dataset in full_data:\n    dataset['Title'] = dataset['Name'].apply(get_title)\n\nprint(pd.crosstab(train['Title'], train['Sex']))",
      "execution_count": 46,
      "outputs": [
        {
          "output_type": "stream",
          "text": "Sex       female  male\nTitle                 \nCapt           0     1\nCol            0     2\nCountess       1     0\nDon            0     1\nDr             1     6\nJonkheer       0     1\nLady           1     0\nMajor          0     2\nMaster         0    40\nMiss         182     0\nMlle           2     0\nMme            1     0\nMr             0   517\nMrs          125     0\nMs             1     0\nRev            0     6\nSir            0     1\n",
          "name": "stdout"
        }
      ]
    },
    {
      "metadata": {
        "trusted": true,
        "_uuid": "4b42e48b69a4c33ffd14831c02ec3ab35a599fa6"
      },
      "cell_type": "code",
      "source": "for dataset in full_data:\n    dataset['Title'] = dataset['Title'].replace(['Lady', 'Countess','Capt', 'Col',\\\n \t'Don', 'Dr', 'Major', 'Rev', 'Sir', 'Jonkheer', 'Dona'], 'Rare')\n\n    dataset['Title'] = dataset['Title'].replace('Mlle', 'Miss')\n    dataset['Title'] = dataset['Title'].replace('Ms', 'Miss')\n    dataset['Title'] = dataset['Title'].replace('Mme', 'Mrs')\n\nprint (train[['Title', 'Survived']].groupby(['Title'], as_index=False).mean())",
      "execution_count": 47,
      "outputs": [
        {
          "output_type": "stream",
          "text": "    Title  Survived\n0  Master  0.575000\n1    Miss  0.702703\n2      Mr  0.156673\n3     Mrs  0.793651\n4    Rare  0.347826\n",
          "name": "stdout"
        }
      ]
    },
    {
      "metadata": {
        "trusted": true,
        "_uuid": "900b4bb1255e6192abcc785897ced30de2a8bff4"
      },
      "cell_type": "code",
      "source": "for dataset in full_data:\n    # Mapping Sex\n    dataset['Sex'] = dataset['Sex'].map( {'female': 0, 'male': 1} ).astype(int)\n    \n    # Mapping titles\n    title_mapping = {\"Mr\": 1, \"Miss\": 2, \"Mrs\": 3, \"Master\": 4, \"Rare\": 5}\n    dataset['Title'] = dataset['Title'].map(title_mapping)\n    dataset['Title'] = dataset['Title'].fillna(0)\n    \n    # Mapping Embarked\n    dataset['Embarked'] = dataset['Embarked'].map( {'S': 0, 'C': 1, 'Q': 2} ).astype(int)\n    \n    # Mapping Fare\n    dataset.loc[ dataset['Fare'] <= 7.91, 'Fare'] \t\t\t\t\t\t        = 0\n    dataset.loc[(dataset['Fare'] > 7.91) & (dataset['Fare'] <= 14.454), 'Fare'] = 1\n    dataset.loc[(dataset['Fare'] > 14.454) & (dataset['Fare'] <= 31), 'Fare']   = 2\n    dataset.loc[ dataset['Fare'] > 31, 'Fare'] \t\t\t\t\t\t\t        = 3\n    dataset['Fare'] = dataset['Fare'].astype(int)\n    \n    # Mapping Age\n    dataset.loc[ dataset['Age'] <= 16, 'Age'] \t\t\t\t\t       = 0\n    dataset.loc[(dataset['Age'] > 16) & (dataset['Age'] <= 32), 'Age'] = 1\n    dataset.loc[(dataset['Age'] > 32) & (dataset['Age'] <= 48), 'Age'] = 2\n    dataset.loc[(dataset['Age'] > 48) & (dataset['Age'] <= 64), 'Age'] = 3\n    dataset.loc[ dataset['Age'] > 64, 'Age']                           = 4\n\n# Feature Selection\ndrop_elements = ['PassengerId', 'Name', 'Ticket', 'Cabin', 'SibSp',\\\n                 'Parch', 'FamilySize']\ntrain = train.drop(drop_elements, axis = 1)\ntrain = train.drop(['CategoricalAge', 'CategoricalFare'], axis = 1)\n\ntest  = test.drop(drop_elements, axis = 1)\n\ntrain = train.values\ntest  = test.values",
      "execution_count": 48,
      "outputs": []
    },
    {
      "metadata": {
        "trusted": true,
        "_uuid": "dfa2c199cdd67a78c4a137847fb845d7fd1bf28c"
      },
      "cell_type": "code",
      "source": "import matplotlib.pyplot as plt\nimport seaborn as sns\n\nfrom sklearn.model_selection import StratifiedShuffleSplit\nfrom sklearn.metrics import accuracy_score, log_loss, f1_score\nfrom sklearn.neighbors import KNeighborsClassifier\nfrom sklearn.svm import SVC\nfrom sklearn.tree import DecisionTreeClassifier\nfrom sklearn.ensemble import RandomForestClassifier, AdaBoostClassifier, GradientBoostingClassifier\nfrom sklearn.naive_bayes import GaussianNB\nfrom sklearn.discriminant_analysis import LinearDiscriminantAnalysis, QuadraticDiscriminantAnalysis\nfrom sklearn.linear_model import LogisticRegression\n\nclassifiers = [\n    KNeighborsClassifier(3),\n    SVC(probability=True),\n    DecisionTreeClassifier(),\n    RandomForestClassifier(),\n    AdaBoostClassifier(),\n    GradientBoostingClassifier(),\n    GaussianNB(),\n    LinearDiscriminantAnalysis(),\n    QuadraticDiscriminantAnalysis(),\n    LogisticRegression()]\n\nlog_cols = [\"Classifier\", \"Accuracy\", \"F1_Score\"]\nlog  = pd.DataFrame(columns=log_cols)\n\nsss = StratifiedShuffleSplit(n_splits=10, test_size=0.1, random_state=0)\n\nX = train[0::, 1::]\ny = train[0::, 0]\n\nacc_dict = {}\nf1_dict= {}\n\nfor train_index, test_index in sss.split(X, y):\n    X_train, X_test = X[train_index], X[test_index]\n    y_train, y_test = y[train_index], y[test_index]\n    \n    for clf in classifiers:\n        name = clf.__class__.__name__\n        clf.fit(X_train, y_train)\n        train_predictions = clf.predict(X_test)\n        acc = accuracy_score(y_test, train_predictions)\n        f1 = f1_score(y_test, train_predictions)\n        if name in acc_dict:\n            acc_dict[name] += acc\n        else:\n            acc_dict[name] = acc\n        if name in f1_dict:\n            f1_dict[name] += f1\n        else:\n            f1_dict[name] = f1\n\nfor clf in acc_dict:\n    acc_dict[clf] = acc_dict[clf] / 10.0\n    log_entry = pd.DataFrame([[clf, acc_dict[clf], f1_dict[clf]]], columns=log_cols)\n    log = log.append(log_entry)\n\nplt.xlabel('Accuracy')\nplt.title('Classifier Accuracy')\n\nsns.set_color_codes(\"muted\")\nsns.barplot(x='Accuracy', y='Classifier', data=log, color=\"b\")",
      "execution_count": 55,
      "outputs": [
        {
          "output_type": "execute_result",
          "execution_count": 55,
          "data": {
            "text/plain": "<matplotlib.axes._subplots.AxesSubplot at 0x7f8bdc558d30>"
          },
          "metadata": {}
        },
        {
          "output_type": "display_data",
          "data": {
            "text/plain": "<matplotlib.figure.Figure at 0x7f8bdc5d1ac8>",
            "image/png": "[encoded data removed]"
          },
          "metadata": {}
        }
      ]
    },
    {
      "metadata": {
        "trusted": true,
        "_uuid": "4a5ae8d4eeb64e26444bb4ef5bd0cb1bb2d577cc"
      },
      "cell_type": "code",
      "source": "log.sort_values(by=['Accuracy', 'F1_Score'], ascending=False)",
      "execution_count": 57,
      "outputs": [
        {
          "output_type": "execute_result",
          "execution_count": 57,
          "data": {
            "text/plain": "                      Classifier  Accuracy  F1_Score\n0                            SVC  0.824444  7.541387\n0     GradientBoostingClassifier  0.822222  7.577448\n0         RandomForestClassifier  0.811111  7.539676\n0             AdaBoostClassifier  0.806667  7.529852\n0  QuadraticDiscriminantAnalysis  0.804444  7.512530\n0         DecisionTreeClassifier  0.802222  7.268740\n0             LogisticRegression  0.797778  7.362749\n0           KNeighborsClassifier  0.792222  7.378037\n0     LinearDiscriminantAnalysis  0.785556  7.201462\n0                     GaussianNB  0.778889  7.293608",
            "text/html": "<div>\n<style scoped>\n    .dataframe tbody tr th:only-of-type {\n        vertical-align: middle;\n    }\n\n    .dataframe tbody tr th {\n        vertical-align: top;\n    }\n\n    .dataframe thead th {\n        text-align: right;\n    }\n</style>\n<table border=\"1\" class=\"dataframe\">\n  <thead>\n    <tr style=\"text-align: right;\">\n      <th></th>\n      <th>Classifier</th>\n      <th>Accuracy</th>\n      <th>F1_Score</th>\n    </tr>\n  </thead>\n  <tbody>\n    <tr>\n      <th>0</th>\n      <td>SVC</td>\n      <td>0.824444</td>\n      <td>7.541387</td>\n    </tr>\n    <tr>\n      <th>0</th>\n      <td>GradientBoostingClassifier</td>\n      <td>0.822222</td>\n      <td>7.577448</td>\n    </tr>\n    <tr>\n      <th>0</th>\n      <td>RandomForestClassifier</td>\n      <td>0.811111</td>\n      <td>7.539676</td>\n    </tr>\n    <tr>\n      <th>0</th>\n      <td>AdaBoostClassifier</td>\n      <td>0.806667</td>\n      <td>7.529852</td>\n    </tr>\n    <tr>\n      <th>0</th>\n      <td>QuadraticDiscriminantAnalysis</td>\n      <td>0.804444</td>\n      <td>7.512530</td>\n    </tr>\n    <tr>\n      <th>0</th>\n      <td>DecisionTreeClassifier</td>\n      <td>0.802222</td>\n      <td>7.268740</td>\n    </tr>\n    <tr>\n      <th>0</th>\n      <td>LogisticRegression</td>\n      <td>0.797778</td>\n      <td>7.362749</td>\n    </tr>\n    <tr>\n      <th>0</th>\n      <td>KNeighborsClassifier</td>\n      <td>0.792222</td>\n      <td>7.378037</td>\n    </tr>\n    <tr>\n      <th>0</th>\n      <td>LinearDiscriminantAnalysis</td>\n      <td>0.785556</td>\n      <td>7.201462</td>\n    </tr>\n    <tr>\n      <th>0</th>\n      <td>GaussianNB</td>\n      <td>0.778889</td>\n      <td>7.293608</td>\n    </tr>\n  </tbody>\n</table>\n</div>"
          },
          "metadata": {}
        }
      ]
    },
    {
      "metadata": {
        "trusted": true,
        "collapsed": true,
        "_uuid": "a0875b48d2c7fa6199f5e77d354427e51cc58b0f"
      },
      "cell_type": "code",
      "source": "",
      "execution_count": null,
      "outputs": []
    }
  ],
  "metadata": {
    "kernelspec": {
      "display_name": "Python 3",
      "language": "python",
      "name": "python3"
    },
    "language_info": {
      "name": "python",
      "version": "3.6.5",
      "mimetype": "text/x-python",
      "codemirror_mode": {
        "name": "ipython",
        "version": 3
      },
      "pygments_lexer": "ipython3",
      "nbconvert_exporter": "python",
      "file_extension": ".py"
    }
  },
  "nbformat": 4,
  "nbformat_minor": 1
}
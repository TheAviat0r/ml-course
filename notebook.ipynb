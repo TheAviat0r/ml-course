{
  "cells": [
    {
      "metadata": {
        "_cell_guid": "b1076dfc-b9ad-4769-8c92-a6c4dae69d19",
        "_uuid": "8f2839f25d086af736a60e9eeb907d3b93b6e0e5",
        "trusted": true
      },
      "cell_type": "code",
      "source": "import numpy as np\nimport pandas as pd\nimport re\n\ntrain = pd.read_csv('../input/train.csv', header = 0, dtype={'Age': np.float64})\ntest  = pd.read_csv('../input/test.csv' , header = 0, dtype={'Age': np.float64})\nfull_data = [train, test]\n\nprint (train.info())\n%matplotlib inline\n\nimport warnings\nwarnings.filterwarnings('ignore')",
      "execution_count": 1,
      "outputs": [
        {
          "output_type": "stream",
          "text": "<class 'pandas.core.frame.DataFrame'>\nRangeIndex: 891 entries, 0 to 890\nData columns (total 12 columns):\nPassengerId    891 non-null int64\nSurvived       891 non-null int64\nPclass         891 non-null int64\nName           891 non-null object\nSex            891 non-null object\nAge            714 non-null float64\nSibSp          891 non-null int64\nParch          891 non-null int64\nTicket         891 non-null object\nFare           891 non-null float64\nCabin          204 non-null object\nEmbarked       889 non-null object\ndtypes: float64(2), int64(5), object(5)\nmemory usage: 83.6+ KB\nNone\n",
          "name": "stdout"
        }
      ]
    },
    {
      "metadata": {
        "_cell_guid": "ad65b0fb-81b7-4944-9f5e-79742a05630d",
        "_uuid": "a2b467385f5ce06a0e22edf8f7003caa0d984230"
      },
      "cell_type": "markdown",
      "source": "## Data exploration\n### PClass\nПосмотрим на обучающую выборку и убедимся, что среди пассажиров 1-го класса больше всего выживших"
    },
    {
      "metadata": {
        "_cell_guid": "79c7e3d0-c299-4dcb-8224-4455121ee9b0",
        "_uuid": "d629ff2d2480ee46fbb7e2d37f6b5fab8052498a",
        "trusted": true
      },
      "cell_type": "code",
      "source": "print (train[['Pclass', 'Survived']].groupby(['Pclass'], as_index=False).mean())",
      "execution_count": 2,
      "outputs": [
        {
          "output_type": "stream",
          "text": "   Pclass  Survived\n0       1  0.629630\n1       2  0.472826\n2       3  0.242363\n",
          "name": "stdout"
        }
      ]
    },
    {
      "metadata": {
        "_cell_guid": "6e83fd5c-869a-4399-bcbc-30ee06cd6424",
        "_uuid": "d018401f99bf6b067d942eb8cbf5d4942d620b45"
      },
      "cell_type": "markdown",
      "source": "### Sex"
    },
    {
      "metadata": {
        "_cell_guid": "1d79e30b-e66b-4b9e-8bf6-36c6ae718de0",
        "_uuid": "474fc095f9f83d42b0be3bf1c8f8f4725d3c472f",
        "trusted": false,
        "collapsed": true
      },
      "cell_type": "code",
      "source": "print (train[[\"Sex\", \"Survived\"]].groupby(['Sex'], as_index=False).mean())",
      "execution_count": null,
      "outputs": []
    },
    {
      "metadata": {
        "_cell_guid": "c97ab4d7-9805-4d5f-b6a6-030825ced42f",
        "_uuid": "72ef2e944732ec45368ea1b5d60b568b78eaf3b0"
      },
      "cell_type": "markdown",
      "source": "### Family"
    },
    {
      "metadata": {
        "_cell_guid": "01579e36-abc8-447b-b8ac-c0a85e8bfe8f",
        "_uuid": "1588dfa9b3452ef87acbd6859f29fda3647f711b",
        "trusted": false,
        "collapsed": true
      },
      "cell_type": "code",
      "source": "for dataset in full_data:\n    dataset['FamilySize'] = dataset['SibSp'] + dataset['Parch'] + 1\nprint (train[['FamilySize', 'Survived']].groupby(['FamilySize'], as_index=False).mean())",
      "execution_count": null,
      "outputs": []
    },
    {
      "metadata": {
        "_cell_guid": "697ac736-c446-4000-8615-67d6d3ebe6fb",
        "_uuid": "299c5ad78603416cd7942a2096ff4d363064a7eb"
      },
      "cell_type": "markdown",
      "source": "### IsAlone\nДобавим еще один новый признак помимо количества родственников - наличие семьи. Как видим, этот признак, скорее всего, имеет достаточно большое влияние на вопрос о выживании конкретного человека."
    },
    {
      "metadata": {
        "_cell_guid": "641f35d4-d82e-420b-9c9d-17cd1c61e96a",
        "_uuid": "ae38d171efe589e351e342c73ae95f303c106548",
        "trusted": false,
        "collapsed": true
      },
      "cell_type": "code",
      "source": "for dataset in full_data:\n    dataset['IsAlone'] = 0\n    dataset.loc[dataset['FamilySize'] == 1, 'IsAlone'] = 1\nprint (train[['IsAlone', 'Survived']].groupby(['IsAlone'], as_index=False).mean())",
      "execution_count": null,
      "outputs": []
    },
    {
      "metadata": {
        "_cell_guid": "03712cd5-a8ee-46f8-984c-e74eb40d95dd",
        "_uuid": "4c6532904b49454ab80558cd2c915a0616b3d6bf"
      },
      "cell_type": "markdown",
      "source": "### Embarked\nЗаменяем null'ы на самое популярное значение - 'S'"
    },
    {
      "metadata": {
        "_cell_guid": "9f41fcf9-e1cc-45c1-8c6c-abd3050e3959",
        "_uuid": "4487059689d5a28d5eee9afc8a9a1d87ecad07a5",
        "trusted": false,
        "collapsed": true
      },
      "cell_type": "code",
      "source": "for dataset in full_data:\n    dataset['Embarked'] = dataset['Embarked'].fillna('S')\nprint (train[['Embarked', 'Survived']].groupby(['Embarked'], as_index=False).mean())",
      "execution_count": null,
      "outputs": []
    },
    {
      "metadata": {
        "_cell_guid": "d98dd5ab-ecc1-4157-97d8-3db83355f536",
        "_uuid": "83d4e14bbe6f7004a0d14088c0cfba48b0f58b1d"
      },
      "cell_type": "markdown",
      "source": "### Fare\nЗаполняем пропуски данных медианным значением, затем вводим категориальный признак - разбиваем оплату за проезд на 4 промежутка."
    },
    {
      "metadata": {
        "_cell_guid": "ffc9f031-b750-4ffc-bb97-3a022dc6fe30",
        "_uuid": "d18f4ca606a567e1aab4a15a3848b43d1d53b452",
        "trusted": false,
        "collapsed": true
      },
      "cell_type": "code",
      "source": "for dataset in full_data:\n    dataset['Fare'] = dataset['Fare'].fillna(train['Fare'].median())\ntrain['CategoricalFare'] = pd.qcut(train['Fare'], 4)\nprint (train[['CategoricalFare', 'Survived']].groupby(['CategoricalFare'], as_index=False).mean())",
      "execution_count": null,
      "outputs": []
    },
    {
      "metadata": {
        "_cell_guid": "e537771c-fc09-4ea5-a0fb-ab40cd49e56a",
        "_uuid": "2107e011d8ee74d6ad4e3ff64872e2cbd653bee5"
      },
      "cell_type": "markdown",
      "source": "### Age\nДля пропусков в возрасте генерируем рандомные данные в пределах mean +- std, затем на основе возраста делаем категориальный признак"
    },
    {
      "metadata": {
        "_cell_guid": "5069eb65-1215-45d6-82e6-3703ddf225b5",
        "_uuid": "5409addc47291af44fc66e5bcd84152203b122bf",
        "trusted": false,
        "collapsed": true
      },
      "cell_type": "code",
      "source": "for dataset in full_data:\n    age_avg \t   = dataset['Age'].mean()\n    age_std \t   = dataset['Age'].std()\n    age_null_count = dataset['Age'].isnull().sum()\n    \n    age_null_random_list = np.random.randint(age_avg - age_std, age_avg + age_std, size=age_null_count)\n    dataset['Age'][np.isnan(dataset['Age'])] = age_null_random_list\n    dataset['Age'] = dataset['Age'].astype(int)\n    \ntrain['CategoricalAge'] = pd.cut(train['Age'], 5)\n\nprint (train[['CategoricalAge', 'Survived']].groupby(['CategoricalAge'], as_index=False).mean())",
      "execution_count": null,
      "outputs": []
    },
    {
      "metadata": {
        "_cell_guid": "90336514-3b1a-4479-9445-92d4c6db754f",
        "_uuid": "ebd869a0eacea597a727ee6036cb7d183c5cbc9c"
      },
      "cell_type": "markdown",
      "source": "### Name"
    },
    {
      "metadata": {
        "_cell_guid": "e203f01e-c923-4abc-8eb3-4486cdccfcb1",
        "_uuid": "6e258e63a3fdf88d7d56e974f9dd805be758604a",
        "trusted": false,
        "collapsed": true
      },
      "cell_type": "code",
      "source": "def get_title(name):\n    title_search = re.search(' ([A-Za-z]+)\\.', name)\n    if title_search:\n        return title_search.group(1)\n    return \"\"\n\nfor dataset in full_data:\n    dataset['Title'] = dataset['Name'].apply(get_title)\n\nprint(pd.crosstab(train['Title'], train['Sex']))",
      "execution_count": null,
      "outputs": []
    },
    {
      "metadata": {
        "_cell_guid": "85daf635-49ce-4f3c-b32c-61658d0ad1f0",
        "_uuid": "8b706c089249ea3f711ea9b2aa888345bf3de7ec",
        "trusted": false,
        "collapsed": true
      },
      "cell_type": "code",
      "source": "for dataset in full_data:\n    dataset['Title'] = dataset['Title'].replace(['Lady', 'Countess','Capt', 'Col',\\\n \t'Don', 'Dr', 'Major', 'Rev', 'Sir', 'Jonkheer', 'Dona'], 'Rare')\n\n    dataset['Title'] = dataset['Title'].replace('Mlle', 'Miss')\n    dataset['Title'] = dataset['Title'].replace('Ms', 'Miss')\n    dataset['Title'] = dataset['Title'].replace('Mme', 'Mrs')\n\nprint (train[['Title', 'Survived']].groupby(['Title'], as_index=False).mean())",
      "execution_count": null,
      "outputs": []
    },
    {
      "metadata": {
        "_cell_guid": "559755ae-1bf5-4cdd-b9e9-16940385e2db",
        "_uuid": "10b4556d38c2321cb3781e9e7643626ed49cd0b8",
        "collapsed": true,
        "trusted": false
      },
      "cell_type": "code",
      "source": "for dataset in full_data:\n    dataset['Sex'] = dataset['Sex'].map( {'female': 0, 'male': 1} ).astype(int)\n    \n    title_mapping = {\"Mr\": 1, \"Miss\": 2, \"Mrs\": 3, \"Master\": 4, \"Rare\": 5}\n    dataset['Title'] = dataset['Title'].map(title_mapping)\n    dataset['Title'] = dataset['Title'].fillna(0)\n\n    dataset['Embarked'] = dataset['Embarked'].map( {'S': 0, 'C': 1, 'Q': 2} ).astype(int)\n    \n    dataset.loc[ dataset['Fare'] <= 7.91, 'Fare'] \t\t\t\t\t\t        = 0\n    dataset.loc[(dataset['Fare'] > 7.91) & (dataset['Fare'] <= 14.454), 'Fare'] = 1\n    dataset.loc[(dataset['Fare'] > 14.454) & (dataset['Fare'] <= 31), 'Fare']   = 2\n    dataset.loc[ dataset['Fare'] > 31, 'Fare']        = 3\n    dataset['Fare'] = dataset['Fare'].astype(int)\n    \n    dataset.loc[ dataset['Age'] <= 16, 'Age']       = 0\n    dataset.loc[(dataset['Age'] > 16) & (dataset['Age'] <= 32), 'Age'] = 1\n    dataset.loc[(dataset['Age'] > 32) & (dataset['Age'] <= 48), 'Age'] = 2\n    dataset.loc[(dataset['Age'] > 48) & (dataset['Age'] <= 64), 'Age'] = 3\n    dataset.loc[ dataset['Age'] > 64, 'Age']                           = 4\n\nfeatures = ['Pclass', 'Sex', 'Age', 'Fare', 'Embarked', 'IsAlone', 'Title']\n",
      "execution_count": null,
      "outputs": []
    },
    {
      "metadata": {
        "_cell_guid": "46a05894-121b-4f9f-ac10-eb8544c4b01c",
        "_uuid": "41bd25fab4137c2b276bc263e883ce39abc2d0fa",
        "trusted": false,
        "collapsed": true
      },
      "cell_type": "code",
      "source": "import matplotlib.pyplot as plt\nimport seaborn as sns\n\nfrom sklearn.model_selection import StratifiedShuffleSplit\nfrom sklearn.metrics import accuracy_score, log_loss, f1_score\nfrom sklearn.neighbors import KNeighborsClassifier\nfrom sklearn.svm import SVC\nfrom sklearn.tree import DecisionTreeClassifier\nfrom sklearn.ensemble import RandomForestClassifier, AdaBoostClassifier, GradientBoostingClassifier\nfrom sklearn.naive_bayes import GaussianNB\nfrom sklearn.discriminant_analysis import LinearDiscriminantAnalysis, QuadraticDiscriminantAnalysis\nfrom sklearn.linear_model import LogisticRegression\n\nclassifiers = [\n    KNeighborsClassifier(3),\n    SVC(probability=True),\n    DecisionTreeClassifier(),\n    RandomForestClassifier(),\n    AdaBoostClassifier(),\n    GradientBoostingClassifier(),\n    GaussianNB(),\n    LinearDiscriminantAnalysis(),\n    QuadraticDiscriminantAnalysis(),\n    LogisticRegression()]\n\nlog_cols = [\"Classifier\", \"Accuracy\", \"F1_Score\"]\nlog  = pd.DataFrame(columns=log_cols)\n\nsss = StratifiedShuffleSplit(n_splits=10, test_size=0.1, random_state=0)\n\nX = train[features].as_matrix()\ny = train['Survived'].as_matrix()\n\nacc_dict = {}\nf1_dict= {}\n\nfor train_index, test_index in sss.split(X, y):\n    X_train, X_test = X[train_index], X[test_index]\n    y_train, y_test = y[train_index], y[test_index]\n    \n    for clf in classifiers:\n        name = clf.__class__.__name__\n        clf.fit(X_train, y_train)\n        train_predictions = clf.predict(X_test)\n        acc = accuracy_score(y_test, train_predictions)\n        f1 = f1_score(y_test, train_predictions)\n        if name in acc_dict:\n            acc_dict[name] += acc\n        else:\n            acc_dict[name] = acc\n        if name in f1_dict:\n            f1_dict[name] += f1\n        else:\n            f1_dict[name] = f1\n\nfor clf in acc_dict:\n    acc_dict[clf] = acc_dict[clf] / 10.0\n    log_entry = pd.DataFrame([[clf, acc_dict[clf], f1_dict[clf]]], columns=log_cols)\n    log = log.append(log_entry)\n\nplt.xlabel('Accuracy')\nplt.title('Classifier Accuracy')\n\nsns.set_color_codes(\"muted\")\nsns.barplot(x='Accuracy', y='Classifier', data=log, color=\"b\")",
      "execution_count": null,
      "outputs": []
    },
    {
      "metadata": {
        "_cell_guid": "c510fc8f-2eca-4b52-8727-bde9bb7f87d7",
        "_uuid": "1eab1a141c2efa9b03f5b2004736a701418d8bd0",
        "trusted": false,
        "collapsed": true
      },
      "cell_type": "code",
      "source": "log.sort_values(by=['Accuracy', 'F1_Score'], ascending=False)",
      "execution_count": null,
      "outputs": []
    },
    {
      "metadata": {
        "_cell_guid": "ba9a0c9d-1341-4df8-beb4-385af4a70d16",
        "_uuid": "a928ae584c7ca6b8431687517cadc85ff129b49b",
        "collapsed": true,
        "trusted": false
      },
      "cell_type": "code",
      "source": "candidate_classifier = SVC(kernel='rbf')\ncandidate_classifier.fit(train[features].as_matrix(), train['Survived'].as_matrix())\ntest['Survived'] = candidate_classifier.predict(test[features].as_matrix())",
      "execution_count": null,
      "outputs": []
    },
    {
      "metadata": {
        "_cell_guid": "c95384dd-1da4-4f1e-9a88-3a130ef88746",
        "_uuid": "2461612b510ce54c1a5bb11229bcb7cd9661d2ae",
        "collapsed": true,
        "trusted": false
      },
      "cell_type": "code",
      "source": "results = test[['PassengerId', 'Survived']]\nresults.to_csv('survived_passengers.csv', index=False)",
      "execution_count": null,
      "outputs": []
    },
    {
      "metadata": {
        "_cell_guid": "291eaad1-1605-447b-9328-dd5df6c7edea",
        "_uuid": "c1db5387211fc35ee9afd4d8825a3d258a9855ca",
        "collapsed": true,
        "trusted": false
      },
      "cell_type": "code",
      "source": "",
      "execution_count": null,
      "outputs": []
    }
  ],
  "metadata": {
    "language_info": {
      "name": "python",
      "version": "3.6.5",
      "mimetype": "text/x-python",
      "codemirror_mode": {
        "name": "ipython",
        "version": 3
      },
      "pygments_lexer": "ipython3",
      "nbconvert_exporter": "python",
      "file_extension": ".py"
    },
    "kernelspec": {
      "display_name": "Python 3",
      "language": "python",
      "name": "python3"
    }
  },
  "nbformat": 4,
  "nbformat_minor": 1
}